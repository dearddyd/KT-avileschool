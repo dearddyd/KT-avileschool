{
 "cells": [
  {
   "cell_type": "markdown",
   "metadata": {},
   "source": [
    "# iterable : 순서가 있는 데이터 집합 :list tuple\n",
    "- iterator : next 함수를 실행하여 값을 발생시키는 값 생성기\n",
    "# generatior : iterator를 간단하게 구현한 문법"
   ]
  },
  {
   "cell_type": "markdown",
   "metadata": {},
   "source": [
    "## iterator 만들기"
   ]
  },
  {
   "cell_type": "code",
   "execution_count": 56,
   "metadata": {},
   "outputs": [
    {
     "data": {
      "text/plain": [
       "list_iterator"
      ]
     },
     "execution_count": 56,
     "metadata": {},
     "output_type": "execute_result"
    }
   ],
   "source": [
    "iterator = iter([1,2,3])\n",
    "\n",
    "type(iterator)"
   ]
  },
  {
   "cell_type": "code",
   "execution_count": 57,
   "metadata": {},
   "outputs": [
    {
     "data": {
      "text/plain": [
       "1"
      ]
     },
     "execution_count": 57,
     "metadata": {},
     "output_type": "execute_result"
    }
   ],
   "source": [
    "next(iterator)"
   ]
  },
  {
   "cell_type": "markdown",
   "metadata": {},
   "source": [
    "## Class로 iterator 만들기 ( 피보나치 수열 )"
   ]
  },
  {
   "cell_type": "code",
   "execution_count": 72,
   "metadata": {},
   "outputs": [],
   "source": [
    "class Fib:\n",
    "    def __init__(self):\n",
    "        self.prev = 0\n",
    "        self.curr = 1\n",
    "        \n",
    "    def __iter__(self):\n",
    "        return self\n",
    "    def __next__(self):\n",
    "        value = self.curr \n",
    "        self.curr += self.prev\n",
    "        self.prev = value\n",
    "        return value"
   ]
  },
  {
   "cell_type": "code",
   "execution_count": 74,
   "metadata": {},
   "outputs": [
    {
     "ename": "UnboundLocalError",
     "evalue": "local variable 'value' referenced before assignment",
     "output_type": "error",
     "traceback": [
      "\u001b[1;31m---------------------------------------------------------------------------\u001b[0m",
      "\u001b[1;31mUnboundLocalError\u001b[0m                         Traceback (most recent call last)",
      "\u001b[1;32md:\\Coding\\KT_CODING_1\\0805\\KT-avileschool\\0805\\iterator_generator.ipynb 셀 7\u001b[0m in \u001b[0;36m<cell line: 3>\u001b[1;34m()\u001b[0m\n\u001b[0;32m      <a href='vscode-notebook-cell:/d%3A/Coding/KT_CODING_1/0805/KT-avileschool/0805/iterator_generator.ipynb#ch0000008?line=0'>1</a>\u001b[0m fib \u001b[39m=\u001b[39m Fib()\n\u001b[0;32m      <a href='vscode-notebook-cell:/d%3A/Coding/KT_CODING_1/0805/KT-avileschool/0805/iterator_generator.ipynb#ch0000008?line=1'>2</a>\u001b[0m \u001b[39mtype\u001b[39m(fib)\n\u001b[1;32m----> <a href='vscode-notebook-cell:/d%3A/Coding/KT_CODING_1/0805/KT-avileschool/0805/iterator_generator.ipynb#ch0000008?line=2'>3</a>\u001b[0m \u001b[39mnext\u001b[39;49m(fib)\n",
      "\u001b[1;32md:\\Coding\\KT_CODING_1\\0805\\KT-avileschool\\0805\\iterator_generator.ipynb 셀 7\u001b[0m in \u001b[0;36mFib.__next__\u001b[1;34m(self)\u001b[0m\n\u001b[0;32m      <a href='vscode-notebook-cell:/d%3A/Coding/KT_CODING_1/0805/KT-avileschool/0805/iterator_generator.ipynb#ch0000008?line=7'>8</a>\u001b[0m \u001b[39mdef\u001b[39;00m \u001b[39m__next__\u001b[39m(\u001b[39mself\u001b[39m):\n\u001b[1;32m----> <a href='vscode-notebook-cell:/d%3A/Coding/KT_CODING_1/0805/KT-avileschool/0805/iterator_generator.ipynb#ch0000008?line=8'>9</a>\u001b[0m     value \u001b[39m=\u001b[39m \u001b[39mself\u001b[39m\u001b[39m.\u001b[39mcurr \u001b[39m+\u001b[39m value\n\u001b[0;32m     <a href='vscode-notebook-cell:/d%3A/Coding/KT_CODING_1/0805/KT-avileschool/0805/iterator_generator.ipynb#ch0000008?line=9'>10</a>\u001b[0m     \u001b[39mself\u001b[39m\u001b[39m.\u001b[39mcurr \u001b[39m+\u001b[39m\u001b[39m=\u001b[39m \u001b[39mself\u001b[39m\u001b[39m.\u001b[39mprev\n\u001b[0;32m     <a href='vscode-notebook-cell:/d%3A/Coding/KT_CODING_1/0805/KT-avileschool/0805/iterator_generator.ipynb#ch0000008?line=10'>11</a>\u001b[0m     \u001b[39mself\u001b[39m\u001b[39m.\u001b[39mprev \u001b[39m=\u001b[39m value\n",
      "\u001b[1;31mUnboundLocalError\u001b[0m: local variable 'value' referenced before assignment"
     ]
    }
   ],
   "source": [
    "fib = Fib()\n",
    "type(fib)\n",
    "next(fib)"
   ]
  },
  {
   "cell_type": "markdown",
   "metadata": {},
   "source": [
    "## yield : 일반 함수를 generator로 만들어주는 명령어"
   ]
  },
  {
   "cell_type": "code",
   "execution_count": 60,
   "metadata": {},
   "outputs": [],
   "source": [
    "def fib():\n",
    "    prev, curr =0,1\n",
    "    while(1):\n",
    "        yield curr  #curr를 return 하고 코드 실행을 중단\n",
    "        prev, curr = curr, prev+curr"
   ]
  },
  {
   "cell_type": "code",
   "execution_count": 61,
   "metadata": {},
   "outputs": [
    {
     "data": {
      "text/plain": [
       "generator"
      ]
     },
     "execution_count": 61,
     "metadata": {},
     "output_type": "execute_result"
    }
   ],
   "source": [
    "f= fib()\n",
    "type(f)"
   ]
  },
  {
   "cell_type": "code",
   "execution_count": 62,
   "metadata": {},
   "outputs": [
    {
     "data": {
      "text/plain": [
       "1"
      ]
     },
     "execution_count": 62,
     "metadata": {},
     "output_type": "execute_result"
    }
   ],
   "source": [
    "next(f)"
   ]
  },
  {
   "cell_type": "markdown",
   "metadata": {},
   "source": [
    "### yield : 함수를 호출할 때 마다 return을 여러번 하는 방법"
   ]
  }
 ],
 "metadata": {
  "kernelspec": {
   "display_name": "Python 3.9.12 ('base')",
   "language": "python",
   "name": "python3"
  },
  "language_info": {
   "codemirror_mode": {
    "name": "ipython",
    "version": 3
   },
   "file_extension": ".py",
   "mimetype": "text/x-python",
   "name": "python",
   "nbconvert_exporter": "python",
   "pygments_lexer": "ipython3",
   "version": "3.9.12"
  },
  "orig_nbformat": 4,
  "vscode": {
   "interpreter": {
    "hash": "5179d32cf6ec497baf3f8a3ef987cc77c5d2dc691fdde20a56316522f61a7323"
   }
  }
 },
 "nbformat": 4,
 "nbformat_minor": 2
}
