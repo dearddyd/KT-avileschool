{
 "cells": [
  {
   "cell_type": "markdown",
   "metadata": {},
   "source": [
    "# Scrapy\n",
    "\n",
    "- 비동기 방식으로 데이터를 수집, 수집 속도가 빠르다."
   ]
  },
  {
   "cell_type": "code",
   "execution_count": 17,
   "metadata": {},
   "outputs": [],
   "source": [
    "import scrapy, requests\n",
    "from scrapy.http import TextResponse"
   ]
  },
  {
   "cell_type": "markdown",
   "metadata": {},
   "source": [
    "### Gmarket 에서 베스트 상품 데이터 수집"
   ]
  },
  {
   "cell_type": "markdown",
   "metadata": {},
   "source": [
    "## 1. 스크레피 프로젝트 생성"
   ]
  },
  {
   "cell_type": "code",
   "execution_count": 18,
   "metadata": {},
   "outputs": [
    {
     "name": "stdout",
     "output_type": "stream",
     "text": [
      "Error: scrapy.cfg already exists in d:\\Coding\\KT_CODING_1\\0805\\KT-avileschool\\0805\\gmarket\n"
     ]
    }
   ],
   "source": [
    "!scrapy startproject gmarket"
   ]
  },
  {
   "cell_type": "markdown",
   "metadata": {},
   "source": [
    "##### item.py : 수집할 데이터의 구조 정의\n",
    "##### middlewares.py : 데이터를 수집할때 header 정보와 같은 내용을 설정\n",
    "##### pipeline.py : 데이터를 수집한 후, 코드 실행 정의\n",
    "##### settings.py : 크롤링 설정; 크롤링 시간 간격,robots.txt 규칙 설정\n",
    "##### spiders : 크롤링 절차를 정의; 디렉토리"
   ]
  },
  {
   "cell_type": "markdown",
   "metadata": {},
   "source": [
    "### 수행절차 \n",
    "1. spider\n",
    "2. item.py\n",
    "3. pipeline"
   ]
  },
  {
   "cell_type": "markdown",
   "metadata": {},
   "source": [
    "## 2. Xpath 찾기 : 링크, 상세 페이지의 데이터"
   ]
  },
  {
   "cell_type": "code",
   "execution_count": 19,
   "metadata": {},
   "outputs": [],
   "source": [
    "url ='http://corners.gmarket.co.kr/Bestsellers'"
   ]
  },
  {
   "cell_type": "markdown",
   "metadata": {},
   "source": [
    "#### 링크 데이터 수집"
   ]
  },
  {
   "cell_type": "code",
   "execution_count": 20,
   "metadata": {},
   "outputs": [],
   "source": [
    "request = requests.get(url)\n",
    "response = TextResponse(request.url, body=request.text, encoding=\"UTF-8\")"
   ]
  },
  {
   "cell_type": "code",
   "execution_count": 21,
   "metadata": {},
   "outputs": [
    {
     "data": {
      "text/plain": [
       "['http://item.gmarket.co.kr/Item?goodscode=2519604129&ver=637953132980089093']"
      ]
     },
     "execution_count": 21,
     "metadata": {},
     "output_type": "execute_result"
    }
   ],
   "source": [
    "links = response.xpath('//*[@id=\"gBestWrap\"]/div/div[3]/div/ul/li[1]/a/@href').extract()\n",
    "links[:2]"
   ]
  },
  {
   "cell_type": "markdown",
   "metadata": {},
   "source": [
    "#### 상세 페이지 데이터 수집"
   ]
  },
  {
   "cell_type": "code",
   "execution_count": 22,
   "metadata": {},
   "outputs": [],
   "source": [
    "link = links[0]\n",
    "request = requests.get(link)\n",
    "response = TextResponse(request.url, body=request.text, encoding=\"UTF-8\")"
   ]
  },
  {
   "cell_type": "code",
   "execution_count": 23,
   "metadata": {},
   "outputs": [
    {
     "data": {
      "text/plain": [
       "('브라운 면도기 세정액 CCR5+1 ', '25,030')"
      ]
     },
     "execution_count": 23,
     "metadata": {},
     "output_type": "execute_result"
    }
   ],
   "source": [
    "title = response.xpath('//*[@id=\"itemcase_basic\"]/div/h1/text()')[0].extract()\n",
    "price = response.xpath('//*[@id=\"itemcase_basic\"]/div/p/span/strong/text()')[0].extract()\n",
    "\n",
    "title, price"
   ]
  },
  {
   "cell_type": "markdown",
   "metadata": {},
   "source": [
    "## 3.  item.py : 코드 작성; model(데이터 구조)"
   ]
  },
  {
   "cell_type": "code",
   "execution_count": 24,
   "metadata": {},
   "outputs": [
    {
     "name": "stdout",
     "output_type": "stream",
     "text": [
      "Overwriting gmarket/gmarket/items.py\n"
     ]
    }
   ],
   "source": [
    "%%writefile gmarket/gmarket/items.py\n",
    "import scrapy\n",
    "\n",
    "class GmarketItem(scrapy, Item):\n",
    "    title = scrapy.Filed() \n",
    "    price = scrapy.Filed()\n",
    "    link = scrapy.Filed()"
   ]
  },
  {
   "cell_type": "markdown",
   "metadata": {},
   "source": [
    "## 4. spider.py : 코드 작성; 크롤링 절차를 정의"
   ]
  },
  {
   "cell_type": "code",
   "execution_count": null,
   "metadata": {},
   "outputs": [],
   "source": []
  },
  {
   "cell_type": "markdown",
   "metadata": {},
   "source": [
    "## 5. 스크레피 프로젝트 실행"
   ]
  }
 ],
 "metadata": {
  "kernelspec": {
   "display_name": "Python 3.9.12 ('base')",
   "language": "python",
   "name": "python3"
  },
  "language_info": {
   "codemirror_mode": {
    "name": "ipython",
    "version": 3
   },
   "file_extension": ".py",
   "mimetype": "text/x-python",
   "name": "python",
   "nbconvert_exporter": "python",
   "pygments_lexer": "ipython3",
   "version": "3.9.12"
  },
  "orig_nbformat": 4,
  "vscode": {
   "interpreter": {
    "hash": "5179d32cf6ec497baf3f8a3ef987cc77c5d2dc691fdde20a56316522f61a7323"
   }
  }
 },
 "nbformat": 4,
 "nbformat_minor": 2
}
